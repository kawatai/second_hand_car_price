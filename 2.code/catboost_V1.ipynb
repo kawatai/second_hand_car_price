{
 "cells": [
  {
   "cell_type": "code",
   "execution_count": 36,
   "metadata": {},
   "outputs": [],
   "source": [
    "from const import *\n",
    "\n",
    "import pandas as pd\n",
    "import matplotlib.pyplot as plt\n",
    "import seaborn as sns\n",
    "import warnings\n",
    "\n",
    "\n",
    "from catboost import CatBoostRegressor\n",
    "from catboost import Pool\n",
    "\n",
    "warnings.simplefilter('ignore')"
   ]
  },
  {
   "cell_type": "code",
   "execution_count": null,
   "metadata": {},
   "outputs": [],
   "source": [
    "data_path = '../1.data/'\n",
    "train_file_name = 'train.csv'\n",
    "test_file_name  = 'test.csv'"
   ]
  },
  {
   "cell_type": "code",
   "execution_count": null,
   "metadata": {},
   "outputs": [],
   "source": [
    "def creansing_dataset(df):\n",
    "    # year\n",
    "    is_error_year = df['year'] > 2023\n",
    "    df.loc[is_error_year, 'year'] = df[is_error_year]['year'] - 1000\n",
    "    # size\n",
    "    df['size'] = df['size'].replace(size_replace)\n",
    "    # manufacturer\n",
    "    df['manufacturer'] = df['manufacturer'].replace(manufactuer_replace)\n",
    "\n",
    "    return df"
   ]
  },
  {
   "cell_type": "code",
   "execution_count": null,
   "metadata": {},
   "outputs": [],
   "source": [
    "train_df = pd.read_csv(f'{data_path}{train_file_name}')\n",
    "test_df = pd.read_csv(f'{data_path}{test_file_name}')\n",
    "master_df = pd.concat([train_df, test_df])"
   ]
  },
  {
   "cell_type": "code",
   "execution_count": null,
   "metadata": {},
   "outputs": [],
   "source": [
    "non_cols = ['id', 'price']\n",
    "num_cols = ['year', 'odometer']\n",
    "cat_cols = [col for col in train_df.columns if col not in non_cols + num_cols]"
   ]
  },
  {
   "cell_type": "code",
   "execution_count": null,
   "metadata": {},
   "outputs": [],
   "source": [
    "def creansing_dataset(df):\n",
    "    # year\n",
    "    is_error_year = df['year'] > 2023\n",
    "    df.loc[is_error_year, 'year'] = df[is_error_year]['year'] - 1000\n",
    "    # size\n",
    "    df['size'] = df['size'].replace(size_replace)\n",
    "    # manufacturer\n",
    "    df['manufacturer'] = df['manufacturer'].replace(manufactuer_replace)\n",
    "\n",
    "    return df\n",
    "\n",
    "\n",
    "def create_num_features(df):\n",
    "    df['elapsed_year'] = 2023 - df['year']\n",
    "    del df['year']\n",
    "\n",
    "    return df\n",
    "\n",
    "\n",
    "def create_cat_features(df):\n",
    "    for col in cat_cols:\n",
    "        df[col] = df[col].factorize()[0]\n",
    "        df[col] = df[col].astype('category')\n",
    "    return df\n",
    "\n",
    "\n",
    "def create_features_main(df):\n",
    "    df = creansing_dataset(df)\n",
    "    df = create_num_features(df)\n",
    "    df = create_cat_features(df)\n",
    "\n",
    "    return df"
   ]
  },
  {
   "cell_type": "code",
   "execution_count": null,
   "metadata": {},
   "outputs": [],
   "source": [
    "master_df = create_features_main(master_df)\n",
    "train_df = master_df[~master_df['price'].isnull()].copy()\n",
    "test_df  = master_df[master_df['price'].isnull()].copy()"
   ]
  },
  {
   "cell_type": "code",
   "execution_count": 44,
   "metadata": {},
   "outputs": [],
   "source": [
    "def built_catboost_model(cat_features, Xt, yt, Xe, ye):\n",
    "    model = \\\n",
    "        CatBoostRegressor(\n",
    "            learning_rate = 0.1,\n",
    "            iterations=300,\n",
    "            loss_function = 'MAE',\n",
    "            early_stopping_rounds = 30,\n",
    "            random_seed = 42\n",
    "        )\n",
    "\n",
    "    model.fit(\n",
    "        X = Xt, y = yt,\n",
    "        eval_set = (Xe, ye),\n",
    "        cat_features = cat_features, \n",
    "        use_best_model = True, \n",
    "        verbose = 50\n",
    "    )\n",
    "\n",
    "    return model"
   ]
  },
  {
   "cell_type": "code",
   "execution_count": 49,
   "metadata": {},
   "outputs": [],
   "source": [
    "from sklearn.model_selection import train_test_split \n",
    "from sklearn.model_selection import KFold\n",
    "from sklearn.metrics import mean_absolute_error"
   ]
  },
  {
   "cell_type": "code",
   "execution_count": 43,
   "metadata": {},
   "outputs": [],
   "source": [
    "train_index, valid_index = train_test_split(train_df['id'].values, test_size=0.25)\n",
    "\n",
    "x_train = train_df.iloc[train_index].drop(columns='price')\n",
    "y_train = train_df.iloc[train_index]['price']\n",
    "x_valid = train_df.iloc[valid_index].drop(columns='price')\n",
    "y_valid = train_df.iloc[valid_index]['price']\n"
   ]
  },
  {
   "cell_type": "code",
   "execution_count": 45,
   "metadata": {},
   "outputs": [
    {
     "name": "stdout",
     "output_type": "stream",
     "text": [
      "0:\tlearn: 7589.7845121\ttest: 7525.4996604\tbest: 7525.4996604 (0)\ttotal: 193ms\tremaining: 57.8s\n",
      "50:\tlearn: 5555.3850541\ttest: 5560.9567771\tbest: 5560.9567771 (50)\ttotal: 2.45s\tremaining: 12s\n",
      "100:\tlearn: 5473.7228319\ttest: 5539.3046172\tbest: 5539.3046172 (100)\ttotal: 4.55s\tremaining: 8.96s\n",
      "150:\tlearn: 5404.8384738\ttest: 5532.7261777\tbest: 5532.7261777 (150)\ttotal: 6.78s\tremaining: 6.69s\n",
      "200:\tlearn: 5354.6938847\ttest: 5527.7875062\tbest: 5527.7875062 (200)\ttotal: 9.11s\tremaining: 4.49s\n",
      "Stopped by overfitting detector  (30 iterations wait)\n",
      "\n",
      "bestTest = 5527.616494\n",
      "bestIteration = 201\n",
      "\n",
      "Shrink model to first 202 iterations.\n"
     ]
    }
   ],
   "source": [
    "model = built_catboost_model(\n",
    "    cat_cols, x_train, y_train, x_valid, y_valid\n",
    ")"
   ]
  },
  {
   "cell_type": "code",
   "execution_count": 50,
   "metadata": {},
   "outputs": [
    {
     "data": {
      "text/plain": [
       "5527.6164950750845"
      ]
     },
     "execution_count": 50,
     "metadata": {},
     "output_type": "execute_result"
    }
   ],
   "source": [
    "mean_absolute_error(\n",
    "    model.predict(x_valid), y_valid)"
   ]
  }
 ],
 "metadata": {
  "kernelspec": {
   "display_name": "Python 3.8.10 64-bit",
   "language": "python",
   "name": "python3"
  },
  "language_info": {
   "codemirror_mode": {
    "name": "ipython",
    "version": 3
   },
   "file_extension": ".py",
   "mimetype": "text/x-python",
   "name": "python",
   "nbconvert_exporter": "python",
   "pygments_lexer": "ipython3",
   "version": "3.8.10"
  },
  "orig_nbformat": 4,
  "vscode": {
   "interpreter": {
    "hash": "c5e1c5925c597f57ef46db01a1f50746bd536835adc768e38beebcd1c979cf19"
   }
  }
 },
 "nbformat": 4,
 "nbformat_minor": 2
}
