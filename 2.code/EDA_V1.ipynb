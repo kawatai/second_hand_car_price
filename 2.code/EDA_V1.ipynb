{
 "cells": [
  {
   "cell_type": "markdown",
   "metadata": {},
   "source": [
    "データの可視化  \n",
    "このファイルでは教師データと評価データに関して下記を主に確認\n",
    "- データ数\n",
    "- 欠損数\n",
    "- データの分布  \n",
    "\n",
    "結論としては、教師・評価データに大きな差異はなさそう"
   ]
  },
  {
   "cell_type": "code",
   "execution_count": 1,
   "metadata": {},
   "outputs": [],
   "source": [
    "import pandas as pd\n",
    "import matplotlib.pyplot as plt\n",
    "import seaborn as sns\n",
    "import warnings\n",
    "\n",
    "warnings.simplefilter('ignore')"
   ]
  },
  {
   "cell_type": "code",
   "execution_count": 2,
   "metadata": {},
   "outputs": [],
   "source": [
    "data_path = '../1.data/'\n",
    "train_file_name = 'train.csv'\n",
    "test_file_name  = 'test.csv'"
   ]
  },
  {
   "cell_type": "code",
   "execution_count": 3,
   "metadata": {},
   "outputs": [],
   "source": [
    "train_df = pd.read_csv(f'{data_path}{train_file_name}')\n",
    "test_df  = pd.read_csv(f'{data_path}{test_file_name}')"
   ]
  },
  {
   "cell_type": "code",
   "execution_count": 4,
   "metadata": {},
   "outputs": [
    {
     "data": {
      "text/html": [
       "<div>\n",
       "<style scoped>\n",
       "    .dataframe tbody tr th:only-of-type {\n",
       "        vertical-align: middle;\n",
       "    }\n",
       "\n",
       "    .dataframe tbody tr th {\n",
       "        vertical-align: top;\n",
       "    }\n",
       "\n",
       "    .dataframe thead th {\n",
       "        text-align: right;\n",
       "    }\n",
       "</style>\n",
       "<table border=\"1\" class=\"dataframe\">\n",
       "  <thead>\n",
       "    <tr style=\"text-align: right;\">\n",
       "      <th></th>\n",
       "      <th>id</th>\n",
       "      <th>region</th>\n",
       "      <th>year</th>\n",
       "      <th>manufacturer</th>\n",
       "      <th>condition</th>\n",
       "      <th>cylinders</th>\n",
       "      <th>fuel</th>\n",
       "      <th>odometer</th>\n",
       "      <th>title_status</th>\n",
       "      <th>transmission</th>\n",
       "      <th>drive</th>\n",
       "      <th>size</th>\n",
       "      <th>type</th>\n",
       "      <th>paint_color</th>\n",
       "      <th>state</th>\n",
       "      <th>price</th>\n",
       "    </tr>\n",
       "  </thead>\n",
       "  <tbody>\n",
       "    <tr>\n",
       "      <th>0</th>\n",
       "      <td>0</td>\n",
       "      <td>nashville</td>\n",
       "      <td>1949</td>\n",
       "      <td>bmw</td>\n",
       "      <td>excellent</td>\n",
       "      <td>6 cylinders</td>\n",
       "      <td>gas</td>\n",
       "      <td>115148</td>\n",
       "      <td>clean</td>\n",
       "      <td>manual</td>\n",
       "      <td>rwd</td>\n",
       "      <td>mid-size</td>\n",
       "      <td>convertible</td>\n",
       "      <td>orange</td>\n",
       "      <td>NaN</td>\n",
       "      <td>27587</td>\n",
       "    </tr>\n",
       "    <tr>\n",
       "      <th>1</th>\n",
       "      <td>1</td>\n",
       "      <td>state college</td>\n",
       "      <td>2013</td>\n",
       "      <td>toyota</td>\n",
       "      <td>fair</td>\n",
       "      <td>8 cylinders</td>\n",
       "      <td>gas</td>\n",
       "      <td>172038</td>\n",
       "      <td>clean</td>\n",
       "      <td>automatic</td>\n",
       "      <td>rwd</td>\n",
       "      <td>full-size</td>\n",
       "      <td>sedan</td>\n",
       "      <td>silver</td>\n",
       "      <td>pa</td>\n",
       "      <td>4724</td>\n",
       "    </tr>\n",
       "    <tr>\n",
       "      <th>2</th>\n",
       "      <td>2</td>\n",
       "      <td>wichita</td>\n",
       "      <td>1998</td>\n",
       "      <td>ford</td>\n",
       "      <td>good</td>\n",
       "      <td>6 cylinders</td>\n",
       "      <td>gas</td>\n",
       "      <td>152492</td>\n",
       "      <td>clean</td>\n",
       "      <td>automatic</td>\n",
       "      <td>fwd</td>\n",
       "      <td>full-size</td>\n",
       "      <td>SUV</td>\n",
       "      <td>silver</td>\n",
       "      <td>ks</td>\n",
       "      <td>10931</td>\n",
       "    </tr>\n",
       "    <tr>\n",
       "      <th>3</th>\n",
       "      <td>3</td>\n",
       "      <td>albany</td>\n",
       "      <td>2014</td>\n",
       "      <td>ford</td>\n",
       "      <td>excellent</td>\n",
       "      <td>4 cylinders</td>\n",
       "      <td>gas</td>\n",
       "      <td>104118</td>\n",
       "      <td>clean</td>\n",
       "      <td>manual</td>\n",
       "      <td>fwd</td>\n",
       "      <td>mid-size</td>\n",
       "      <td>SUV</td>\n",
       "      <td>blue</td>\n",
       "      <td>ny</td>\n",
       "      <td>16553</td>\n",
       "    </tr>\n",
       "    <tr>\n",
       "      <th>4</th>\n",
       "      <td>4</td>\n",
       "      <td>redding</td>\n",
       "      <td>2005</td>\n",
       "      <td>ford</td>\n",
       "      <td>excellent</td>\n",
       "      <td>6 cylinders</td>\n",
       "      <td>gas</td>\n",
       "      <td>144554</td>\n",
       "      <td>clean</td>\n",
       "      <td>manual</td>\n",
       "      <td>fwd</td>\n",
       "      <td>mid-size</td>\n",
       "      <td>sedan</td>\n",
       "      <td>red</td>\n",
       "      <td>ca</td>\n",
       "      <td>5158</td>\n",
       "    </tr>\n",
       "  </tbody>\n",
       "</table>\n",
       "</div>"
      ],
      "text/plain": [
       "   id         region  year manufacturer  condition    cylinders fuel  \\\n",
       "0   0      nashville  1949          bmw  excellent  6 cylinders  gas   \n",
       "1   1  state college  2013       toyota       fair  8 cylinders  gas   \n",
       "2   2        wichita  1998         ford       good  6 cylinders  gas   \n",
       "3   3         albany  2014         ford  excellent  4 cylinders  gas   \n",
       "4   4        redding  2005         ford  excellent  6 cylinders  gas   \n",
       "\n",
       "   odometer title_status transmission drive       size         type  \\\n",
       "0    115148        clean       manual   rwd   mid-size  convertible   \n",
       "1    172038        clean    automatic   rwd  full-size        sedan   \n",
       "2    152492        clean    automatic   fwd  full-size          SUV   \n",
       "3    104118        clean       manual   fwd   mid-size          SUV   \n",
       "4    144554        clean       manual   fwd   mid-size        sedan   \n",
       "\n",
       "  paint_color state  price  \n",
       "0      orange   NaN  27587  \n",
       "1      silver    pa   4724  \n",
       "2      silver    ks  10931  \n",
       "3        blue    ny  16553  \n",
       "4         red    ca   5158  "
      ]
     },
     "execution_count": 4,
     "metadata": {},
     "output_type": "execute_result"
    }
   ],
   "source": [
    "train_df.head()"
   ]
  },
  {
   "cell_type": "code",
   "execution_count": 5,
   "metadata": {},
   "outputs": [
    {
     "name": "stdout",
     "output_type": "stream",
     "text": [
      "train_len = 27532\n",
      "test_len  = 27537\n"
     ]
    }
   ],
   "source": [
    "# データ数\n",
    "print(f'train_len = {len(train_df)}')\n",
    "print(f'test_len  = {len(test_df)}')"
   ]
  },
  {
   "cell_type": "code",
   "execution_count": 6,
   "metadata": {},
   "outputs": [
    {
     "name": "stdout",
     "output_type": "stream",
     "text": [
      "<class 'pandas.core.frame.DataFrame'>\n",
      "RangeIndex: 27532 entries, 0 to 27531\n",
      "Data columns (total 16 columns):\n",
      " #   Column        Non-Null Count  Dtype \n",
      "---  ------        --------------  ----- \n",
      " 0   id            27532 non-null  int64 \n",
      " 1   region        27532 non-null  object\n",
      " 2   year          27532 non-null  int64 \n",
      " 3   manufacturer  27532 non-null  object\n",
      " 4   condition     27532 non-null  object\n",
      " 5   cylinders     27532 non-null  object\n",
      " 6   fuel          26293 non-null  object\n",
      " 7   odometer      27532 non-null  int64 \n",
      " 8   title_status  27076 non-null  object\n",
      " 9   transmission  27532 non-null  object\n",
      " 10  drive         27532 non-null  object\n",
      " 11  size          27532 non-null  object\n",
      " 12  type          27076 non-null  object\n",
      " 13  paint_color   27532 non-null  object\n",
      " 14  state         24228 non-null  object\n",
      " 15  price         27532 non-null  int64 \n",
      "dtypes: int64(4), object(12)\n",
      "memory usage: 3.4+ MB\n"
     ]
    }
   ],
   "source": [
    "# データ型\n",
    "train_df.info()"
   ]
  },
  {
   "cell_type": "code",
   "execution_count": 7,
   "metadata": {},
   "outputs": [
    {
     "data": {
      "text/html": [
       "<div>\n",
       "<style scoped>\n",
       "    .dataframe tbody tr th:only-of-type {\n",
       "        vertical-align: middle;\n",
       "    }\n",
       "\n",
       "    .dataframe tbody tr th {\n",
       "        vertical-align: top;\n",
       "    }\n",
       "\n",
       "    .dataframe thead th {\n",
       "        text-align: right;\n",
       "    }\n",
       "</style>\n",
       "<table border=\"1\" class=\"dataframe\">\n",
       "  <thead>\n",
       "    <tr style=\"text-align: right;\">\n",
       "      <th></th>\n",
       "      <th>index</th>\n",
       "      <th>train</th>\n",
       "      <th>test</th>\n",
       "    </tr>\n",
       "  </thead>\n",
       "  <tbody>\n",
       "    <tr>\n",
       "      <th>6</th>\n",
       "      <td>fuel</td>\n",
       "      <td>1239</td>\n",
       "      <td>1495</td>\n",
       "    </tr>\n",
       "    <tr>\n",
       "      <th>8</th>\n",
       "      <td>title_status</td>\n",
       "      <td>456</td>\n",
       "      <td>229</td>\n",
       "    </tr>\n",
       "    <tr>\n",
       "      <th>12</th>\n",
       "      <td>type</td>\n",
       "      <td>456</td>\n",
       "      <td>229</td>\n",
       "    </tr>\n",
       "    <tr>\n",
       "      <th>14</th>\n",
       "      <td>state</td>\n",
       "      <td>3304</td>\n",
       "      <td>3029</td>\n",
       "    </tr>\n",
       "  </tbody>\n",
       "</table>\n",
       "</div>"
      ],
      "text/plain": [
       "           index  train  test\n",
       "6           fuel   1239  1495\n",
       "8   title_status    456   229\n",
       "12          type    456   229\n",
       "14         state   3304  3029"
      ]
     },
     "execution_count": 7,
     "metadata": {},
     "output_type": "execute_result"
    }
   ],
   "source": [
    "# 欠損データの数\n",
    "isna_sum_df = pd.merge(\n",
    "    left  = train_df.isna().sum().rename('train').reset_index()[:-1],\n",
    "    right = test_df.isna().sum().rename('test').reset_index(),\n",
    "    how = 'left', on = 'index')\n",
    "\n",
    "isna_sum_df[isna_sum_df['train']!=0]"
   ]
  },
  {
   "cell_type": "code",
   "execution_count": 8,
   "metadata": {},
   "outputs": [],
   "source": [
    "non_cols = ['id']\n",
    "num_cols = ['year', 'odometer']\n",
    "cat_cols = [col for col in train_df.columns if col not in non_cols + num_cols]\n",
    "\n",
    "merge_df = pd.concat([train_df, test_df])\n",
    "merge_df.loc[merge_df['price'].isnull(), 'train_test'] = 'test'\n",
    "merge_df.loc[~merge_df['price'].isnull(), 'train_test'] = 'train'\n",
    "\n",
    "num_df = merge_df[num_cols+['train_test']]\n",
    "cat_df = merge_df[cat_cols+['train_test']]"
   ]
  },
  {
   "cell_type": "code",
   "execution_count": 9,
   "metadata": {},
   "outputs": [],
   "source": [
    "# エラーデータ処理\n",
    "is_error_year = train_df['year'] > 2023\n",
    "train_df.loc[is_error_year, 'year'] = train_df[is_error_year]['year'] - 1000\n",
    "\n",
    "size_replace = \\\n",
    "    {'fullーsize':'full-size', 'midーsize':'mid-size', \n",
    "     'fullーsize':'full-size', 'subーcompact':'sub-compact', \n",
    "     'mid−size':'mid-size', 'full−size':'full-size'}\n",
    "train_df['size'] = train_df['size'].replace(size_replace)\n",
    "\n",
    "manufactuer_replace = {\n",
    "    'ｂｍｗ':'bmw', 'BMW':'bmw', 'ＢＭＷ':'bmw',\n",
    "    'TOYOTA':'toyota', 'ＴＯＹＯＴＡ':'toyota', 'ｔｏｙｏｔａ':'toyota', 'toyotа':'toyota',\n",
    "    'ｆｏｒｄ':'ford', 'FORD':'ford', 'ＦＯＲＤ':'ford',\n",
    "    'NISSAN':'nissan', 'ＮＩＳＳＡＮ':'nissan', 'ｎｉｓｓａｎ':'nissan', 'nisѕan':'nissan', 'niѕsan':'nissan',\n",
    "    'ＶＯＬＫＳＷＡＧＥＮ':'volkswagen', 'ｖｏｌｋｓｗａｇｅｎ':'volkswagen', 'VOLKSWAGEN':'volkswagen', 'vоlkswagen':'volkswagen',\n",
    "    'CHEVROLET':'chevrolet', 'ｃｈｅｖｒｏｌｅｔ':'chevrolet', 'ＣＨＥＶＲＯＬＥＴ':'chevrolet',\n",
    "    'RAM':'ram', 'ｒａｍ':'ram', 'ＲＡＭ':'ram', \n",
    "    'GMC':'gmc', 'ｇｍｃ':'gmc',\n",
    "    'BUICK':'buick', 'ｂｕｉｃｋ':'buick', 'ＢＵＩＣＫ':'buick',\n",
    "    'MERCEDES-BENZ':'mercedes-benz', 'ｍｅｒｃｅｄｅｓ－ｂｅｎｚ':'mercedes-benz',\n",
    "    'HONDA':'honda', 'ｈｏｎｄａ':'honda',\n",
    "    'ACURA':'acura', 'ＡＣＵＲＡ':'acura', 'ａｃｕｒａ':'acura', 'аcura':'acura',\n",
    "    'MINI':'mini', 'ＭＩＮＩ':'mini',\n",
    "    'KIA':'kia', 'ｋｉａ':'kia',\n",
    "    'ｍａｚｄａ':'mazda', 'MAZDA':'mazda', 'ＭＡＺＤＡ':'mazda',\n",
    "    'SUBARU':'subaru', 'ｓｕｂａｒｕ':'subaru', 'SUBΑRU':'subaru', 'ＳＵＢＡＲＵ':'subaru',\n",
    "    'LEXUS':'lexus', 'ｌｅｘｕｓ':'lexus', 'lexuѕ':'lexus',\n",
    "    'DODGE':'dodge', 'ｄｏｄｇｅ':'dodge', 'ＤＯＤＧＥ':'dodge', \n",
    "    'HYUNDAI':'hyundai', 'ｈｙｕｎｄａｉ':'hyundai', 'ＨＹＵＮＤＡＩ':'hyundai',\n",
    "    'INFINITI':'infiniti', 'ｉｎｆｉｎｉｔｉ':'infiniti', \n",
    "    'CADILLAC':'cadillac', 'ｃａｄｉｌｌａｃ':'cadillac', 'ＣＡＤＩＬＬＡＣ':'cadillac',\n",
    "    'JEEP':'jeep', 'ｊｅｅｐ':'jeep', 'ＪＥＥＰ':'jeep',\n",
    "    'LINCOLN':'lincoln',\n",
    "    'AUDI':'audi', 'ａｕｄｉ':'audi', \n",
    "    'MERCURY':'mercury', 'ｍｅｒｃｕｒｙ':'mercury', 'ＭＥＲＣＵＲＹ':'mercury',\n",
    "    'ROVER':'rover',\n",
    "    'ｖｏｌｖｏ':'volvo',\n",
    "    'JAGUAR':'jaguar',\n",
    "    'SATURN':'saturn', 'ｓａｔｕｒｎ':'saturn', 'SΑTURN':'saturn',\n",
    "    'CHRYSLER':'chrysler', 'ｃｈｒｙｓｌｅｒ':'chrysler', 'ᴄhrysler':'chrysler',\n",
    "    'PONTIAC':'pontiac', 'ｐｏｎｔｉａｃ':'pontiac',\n",
    "    'ｍｉｔｓｕｂｉｓｈｉ':'mitsubishi', 'MITSUBISHI':'mitsubishi', 'ＭＩＴＳＵＢＩＳＨＩ':'mitsubishi',\n",
    "    'VOLVO':'volvo',\n",
    "    'FIAT':'fiat',\n",
    "}\n",
    "\n",
    "train_df['manufacturer'] = train_df['manufacturer'].replace(manufactuer_replace)"
   ]
  },
  {
   "cell_type": "code",
   "execution_count": 10,
   "metadata": {},
   "outputs": [
    {
     "data": {
      "text/plain": [
       "<Figure size 2160x1296 with 0 Axes>"
      ]
     },
     "metadata": {},
     "output_type": "display_data"
    },
    {
     "data": {
      "image/png": "[encoded data removed]",
      "text/plain": [
       "<Figure size 707.375x216 with 1 Axes>"
      ]
     },
     "metadata": {
      "needs_background": "light"
     },
     "output_type": "display_data"
    },
    {
     "data": {
      "image/png": "[encoded data removed]",
      "text/plain": [
       "<Figure size 707.375x216 with 1 Axes>"
      ]
     },
     "metadata": {
      "needs_background": "light"
     },
     "output_type": "display_data"
    }
   ],
   "source": [
    "# 数値データのヒストグラム\n",
    "fig = plt.figure(figsize=(30,6*num_df.shape[1]))\n",
    "\n",
    "for col in num_cols:\n",
    "    g=sns.FacetGrid(num_df, hue='train_test', height=3, aspect=3)\n",
    "    g.map(sns.distplot, col)\n",
    "    g.add_legend()"
   ]
  },
  {
   "cell_type": "code",
   "execution_count": 11,
   "metadata": {},
   "outputs": [],
   "source": [
    "def only_cat_train_test(f_col):\n",
    "    train_cat_unique = train_df[f_col].unique()\n",
    "    test_cat_unique  = test_df[f_col].unique()\n",
    "    print('train, testのみに含まれるデータ')\n",
    "    print(f'only_train_region = {[r for r in train_cat_unique if r not in test_cat_unique]}')\n",
    "    print(f'only_test_region  = {[r for r in test_cat_unique if r not in train_cat_unique]}')\n",
    "\n",
    "\n",
    "def show_countplot(df, f_col, threshhold, fs):\n",
    "    plt.figure(figsize=fs)\n",
    "    df['count'] = cat_df.groupby(f_col)['train_test'].transform('count')\n",
    "    if df[f_col].nunique() > 30:\n",
    "        df = df[df['count']>threshhold]\n",
    "    df = df.sort_values('count')\n",
    "    ax = sns.countplot(x=f_col, data=df)\n",
    "    ax.set_xticklabels(ax.get_xticklabels(),rotation = 90)\n",
    "\n",
    "\n",
    "def compare_cat_value_counts(df, f_col):\n",
    "    df = df.groupby([f_col, 'train_test']).count().reset_index()\n",
    "    compare_df = \\\n",
    "        pd.merge(\n",
    "            left  = df[df['train_test']=='train'],\n",
    "            right = df[df['train_test']=='test'],\n",
    "            how = 'left', on = f_col\n",
    "        )\n",
    "\n",
    "    print('\\n片方だけに多く含まれるデータ')\n",
    "    display(compare_df[abs(compare_df['count_x'] - compare_df['count_y']) > 100])\n",
    "    print('\\n')\n",
    "\n",
    "\n",
    "def visualize_category_data(focus_col, threshhold, fs):\n",
    "    df = cat_df[[focus_col, 'train_test']].copy()\n",
    "    # train or testにのみ含まれるデータ\n",
    "    only_cat_train_test(focus_col)\n",
    "    # カウントプロットの表示\n",
    "    show_countplot(df, focus_col, threshhold, fs)\n",
    "    # train, testにのみ多く含まれるデータ\n",
    "    compare_cat_value_counts(df, focus_col)"
   ]
  },
  {
   "cell_type": "code",
   "execution_count": 12,
   "metadata": {},
   "outputs": [
    {
     "name": "stdout",
     "output_type": "stream",
     "text": [
      "train, testのみに含まれるデータ\n",
      "only_train_region = []\n",
      "only_test_region  = []\n",
      "\n",
      "片方だけに多く含まれるデータ\n"
     ]
    },
    {
     "data": {
      "text/html": [
       "<div>\n",
       "<style scoped>\n",
       "    .dataframe tbody tr th:only-of-type {\n",
       "        vertical-align: middle;\n",
       "    }\n",
       "\n",
       "    .dataframe tbody tr th {\n",
       "        vertical-align: top;\n",
       "    }\n",
       "\n",
       "    .dataframe thead th {\n",
       "        text-align: right;\n",
       "    }\n",
       "</style>\n",
       "<table border=\"1\" class=\"dataframe\">\n",
       "  <thead>\n",
       "    <tr style=\"text-align: right;\">\n",
       "      <th></th>\n",
       "      <th>region</th>\n",
       "      <th>train_test_x</th>\n",
       "      <th>count_x</th>\n",
       "      <th>train_test_y</th>\n",
       "      <th>count_y</th>\n",
       "    </tr>\n",
       "  </thead>\n",
       "  <tbody>\n",
       "  </tbody>\n",
       "</table>\n",
       "</div>"
      ],
      "text/plain": [
       "Empty DataFrame\n",
       "Columns: [region, train_test_x, count_x, train_test_y, count_y]\n",
       "Index: []"
      ]
     },
     "metadata": {},
     "output_type": "display_data"
    },
    {
     "name": "stdout",
     "output_type": "stream",
     "text": [
      "\n",
      "\n"
     ]
    },
    {
     "data": {
      "image/png": "[encoded data removed]",
      "text/plain": [
       "<Figure size 1440x216 with 1 Axes>"
      ]
     },
     "metadata": {
      "needs_background": "light"
     },
     "output_type": "display_data"
    }
   ],
   "source": [
    "visualize_category_data('region', 300, (20,3))"
   ]
  },
  {
   "cell_type": "code",
   "execution_count": 13,
   "metadata": {},
   "outputs": [
    {
     "name": "stdout",
     "output_type": "stream",
     "text": [
      "train, testのみに含まれるデータ\n",
      "only_train_region = []\n",
      "only_test_region  = ['CHEVROLET', 'BMW', 'HONDA', 'ｂｕｉｃｋ', 'FORD', 'CADILLAC', 'VOLKSWAGEN', 'LEXUS', 'JEEP', 'TOYOTA', 'GMC', 'ｆｏｒｄ', 'JAGUAR', 'ｃｈｅｖｒｏｌｅｔ', 'RAM', 'ACURA', 'ＴＯＹＯＴＡ', 'HYUNDAI', 'MERCEDES-BENZ', 'KIA', 'PONTIAC', 'NISSAN', 'ｌｅｘｕｓ', 'MITSUBISHI', 'DODGE', 'INFINITI', 'BUICK', 'ｊｅｅｐ', 'ｔｏｙｏｔａ', 'ｈｏｎｄａ', 'AUDI', 'ｃａｄｉｌｌａｃ', 'ｋｉａ', 'CHRYSLER', 'ｍｅｒｃｕｒｙ', 'ｎｉｓｓａｎ', 'ｍａｚｄａ', 'LINCOLN', 'MERCURY', 'lexuѕ', 'ｒａｍ', 'ＦＯＲＤ', 'FIAT', 'SUBARU', 'ｂｍｗ', 'ＢＭＷ', 'MAZDA', 'ＣＨＥＶＲＯＬＥＴ', 'ｖｏｌｋｓｗａｇｅｎ', 'ｈｙｕｎｄａｉ', 'MINI', 'niѕsan', 'ＭＡＺＤＡ', 'ｓａｔｕｒｎ', 'SATURN', 'ｍｉｔｓｕｂｉｓｈｉ', 'ＲＡＭ', 'ａｕｄｉ', 'ＣＡＤＩＬＬＡＣ', 'ＮＩＳＳＡＮ', 'ｉｎｆｉｎｉｔｉ', 'ｍｅｒｃｅｄｅｓ－ｂｅｎｚ', 'VOLVO', 'ＭＩＮＩ', 'ｓｕｂａｒｕ', 'toyotа', 'ｖｏｌｖｏ', 'ａｃｕｒａ', 'ＶＯＬＫＳＷＡＧＥＮ', 'ｃｈｒｙｓｌｅｒ', 'ＳＵＢＡＲＵ', 'nisѕan', 'ＭＩＴＳＵＢＩＳＨＩ', 'ＨＹＵＮＤＡＩ', 'vоlkswagen', 'ｐｏｎｔｉａｃ', 'ROVER', 'ｇｍｃ', 'ＡＣＵＲＡ', 'ＢＵＩＣＫ', 'SUBΑRU', 'ＪＥＥＰ', 'ᴄhrysler', 'ＭＥＲＣＵＲＹ', 'ｄｏｄｇｅ', 'ＤＯＤＧＥ', 'SΑTURN', 'аcura']\n",
      "\n",
      "片方だけに多く含まれるデータ\n"
     ]
    },
    {
     "data": {
      "text/html": [
       "<div>\n",
       "<style scoped>\n",
       "    .dataframe tbody tr th:only-of-type {\n",
       "        vertical-align: middle;\n",
       "    }\n",
       "\n",
       "    .dataframe tbody tr th {\n",
       "        vertical-align: top;\n",
       "    }\n",
       "\n",
       "    .dataframe thead th {\n",
       "        text-align: right;\n",
       "    }\n",
       "</style>\n",
       "<table border=\"1\" class=\"dataframe\">\n",
       "  <thead>\n",
       "    <tr style=\"text-align: right;\">\n",
       "      <th></th>\n",
       "      <th>manufacturer</th>\n",
       "      <th>train_test_x</th>\n",
       "      <th>count_x</th>\n",
       "      <th>train_test_y</th>\n",
       "      <th>count_y</th>\n",
       "    </tr>\n",
       "  </thead>\n",
       "  <tbody>\n",
       "    <tr>\n",
       "      <th>39</th>\n",
       "      <td>bmw</td>\n",
       "      <td>train</td>\n",
       "      <td>2736</td>\n",
       "      <td>test</td>\n",
       "      <td>2865</td>\n",
       "    </tr>\n",
       "  </tbody>\n",
       "</table>\n",
       "</div>"
      ],
      "text/plain": [
       "   manufacturer train_test_x  count_x train_test_y  count_y\n",
       "39          bmw        train     2736         test     2865"
      ]
     },
     "metadata": {},
     "output_type": "display_data"
    },
    {
     "name": "stdout",
     "output_type": "stream",
     "text": [
      "\n",
      "\n"
     ]
    },
    {
     "data": {
      "image/png": "[encoded data removed]",
      "text/plain": [
       "<Figure size 1440x216 with 1 Axes>"
      ]
     },
     "metadata": {
      "needs_background": "light"
     },
     "output_type": "display_data"
    }
   ],
   "source": [
    "visualize_category_data('manufacturer', 100, (20,3))"
   ]
  },
  {
   "cell_type": "code",
   "execution_count": 14,
   "metadata": {},
   "outputs": [
    {
     "name": "stdout",
     "output_type": "stream",
     "text": [
      "train, testのみに含まれるデータ\n",
      "only_train_region = []\n",
      "only_test_region  = []\n",
      "\n",
      "片方だけに多く含まれるデータ\n"
     ]
    },
    {
     "data": {
      "text/html": [
       "<div>\n",
       "<style scoped>\n",
       "    .dataframe tbody tr th:only-of-type {\n",
       "        vertical-align: middle;\n",
       "    }\n",
       "\n",
       "    .dataframe tbody tr th {\n",
       "        vertical-align: top;\n",
       "    }\n",
       "\n",
       "    .dataframe thead th {\n",
       "        text-align: right;\n",
       "    }\n",
       "</style>\n",
       "<table border=\"1\" class=\"dataframe\">\n",
       "  <thead>\n",
       "    <tr style=\"text-align: right;\">\n",
       "      <th></th>\n",
       "      <th>condition</th>\n",
       "      <th>train_test_x</th>\n",
       "      <th>count_x</th>\n",
       "      <th>train_test_y</th>\n",
       "      <th>count_y</th>\n",
       "    </tr>\n",
       "  </thead>\n",
       "  <tbody>\n",
       "  </tbody>\n",
       "</table>\n",
       "</div>"
      ],
      "text/plain": [
       "Empty DataFrame\n",
       "Columns: [condition, train_test_x, count_x, train_test_y, count_y]\n",
       "Index: []"
      ]
     },
     "metadata": {},
     "output_type": "display_data"
    },
    {
     "name": "stdout",
     "output_type": "stream",
     "text": [
      "\n",
      "\n"
     ]
    },
    {
     "data": {
      "image/png": "[encoded data removed]",
      "text/plain": [
       "<Figure size 576x216 with 1 Axes>"
      ]
     },
     "metadata": {
      "needs_background": "light"
     },
     "output_type": "display_data"
    }
   ],
   "source": [
    "visualize_category_data('condition', 100, (8, 3))"
   ]
  },
  {
   "cell_type": "code",
   "execution_count": 15,
   "metadata": {},
   "outputs": [
    {
     "name": "stdout",
     "output_type": "stream",
     "text": [
      "train, testのみに含まれるデータ\n",
      "only_train_region = []\n",
      "only_test_region  = []\n",
      "\n",
      "片方だけに多く含まれるデータ\n"
     ]
    },
    {
     "data": {
      "text/html": [
       "<div>\n",
       "<style scoped>\n",
       "    .dataframe tbody tr th:only-of-type {\n",
       "        vertical-align: middle;\n",
       "    }\n",
       "\n",
       "    .dataframe tbody tr th {\n",
       "        vertical-align: top;\n",
       "    }\n",
       "\n",
       "    .dataframe thead th {\n",
       "        text-align: right;\n",
       "    }\n",
       "</style>\n",
       "<table border=\"1\" class=\"dataframe\">\n",
       "  <thead>\n",
       "    <tr style=\"text-align: right;\">\n",
       "      <th></th>\n",
       "      <th>cylinders</th>\n",
       "      <th>train_test_x</th>\n",
       "      <th>count_x</th>\n",
       "      <th>train_test_y</th>\n",
       "      <th>count_y</th>\n",
       "    </tr>\n",
       "  </thead>\n",
       "  <tbody>\n",
       "    <tr>\n",
       "      <th>5</th>\n",
       "      <td>6 cylinders</td>\n",
       "      <td>train</td>\n",
       "      <td>11504</td>\n",
       "      <td>test</td>\n",
       "      <td>11697</td>\n",
       "    </tr>\n",
       "    <tr>\n",
       "      <th>6</th>\n",
       "      <td>8 cylinders</td>\n",
       "      <td>train</td>\n",
       "      <td>5727</td>\n",
       "      <td>test</td>\n",
       "      <td>5613</td>\n",
       "    </tr>\n",
       "  </tbody>\n",
       "</table>\n",
       "</div>"
      ],
      "text/plain": [
       "     cylinders train_test_x  count_x train_test_y  count_y\n",
       "5  6 cylinders        train    11504         test    11697\n",
       "6  8 cylinders        train     5727         test     5613"
      ]
     },
     "metadata": {},
     "output_type": "display_data"
    },
    {
     "name": "stdout",
     "output_type": "stream",
     "text": [
      "\n",
      "\n"
     ]
    },
    {
     "data": {
      "image/png": "[encoded data removed]",
      "text/plain": [
       "<Figure size 720x216 with 1 Axes>"
      ]
     },
     "metadata": {
      "needs_background": "light"
     },
     "output_type": "display_data"
    }
   ],
   "source": [
    "visualize_category_data('cylinders', 100, (10,3))"
   ]
  },
  {
   "cell_type": "code",
   "execution_count": 16,
   "metadata": {},
   "outputs": [
    {
     "name": "stdout",
     "output_type": "stream",
     "text": [
      "train, testのみに含まれるデータ\n",
      "only_train_region = [nan]\n",
      "only_test_region  = [nan]\n",
      "\n",
      "片方だけに多く含まれるデータ\n"
     ]
    },
    {
     "data": {
      "text/html": [
       "<div>\n",
       "<style scoped>\n",
       "    .dataframe tbody tr th:only-of-type {\n",
       "        vertical-align: middle;\n",
       "    }\n",
       "\n",
       "    .dataframe tbody tr th {\n",
       "        vertical-align: top;\n",
       "    }\n",
       "\n",
       "    .dataframe thead th {\n",
       "        text-align: right;\n",
       "    }\n",
       "</style>\n",
       "<table border=\"1\" class=\"dataframe\">\n",
       "  <thead>\n",
       "    <tr style=\"text-align: right;\">\n",
       "      <th></th>\n",
       "      <th>fuel</th>\n",
       "      <th>train_test_x</th>\n",
       "      <th>count_x</th>\n",
       "      <th>train_test_y</th>\n",
       "      <th>count_y</th>\n",
       "    </tr>\n",
       "  </thead>\n",
       "  <tbody>\n",
       "    <tr>\n",
       "      <th>0</th>\n",
       "      <td>diesel</td>\n",
       "      <td>train</td>\n",
       "      <td>2639</td>\n",
       "      <td>test</td>\n",
       "      <td>2515</td>\n",
       "    </tr>\n",
       "    <tr>\n",
       "      <th>2</th>\n",
       "      <td>gas</td>\n",
       "      <td>train</td>\n",
       "      <td>23546</td>\n",
       "      <td>test</td>\n",
       "      <td>23427</td>\n",
       "    </tr>\n",
       "  </tbody>\n",
       "</table>\n",
       "</div>"
      ],
      "text/plain": [
       "     fuel train_test_x  count_x train_test_y  count_y\n",
       "0  diesel        train     2639         test     2515\n",
       "2     gas        train    23546         test    23427"
      ]
     },
     "metadata": {},
     "output_type": "display_data"
    },
    {
     "name": "stdout",
     "output_type": "stream",
     "text": [
      "\n",
      "\n"
     ]
    },
    {
     "data": {
      "image/png": "[encoded data removed]",
      "text/plain": [
       "<Figure size 360x216 with 1 Axes>"
      ]
     },
     "metadata": {
      "needs_background": "light"
     },
     "output_type": "display_data"
    }
   ],
   "source": [
    "visualize_category_data('fuel', 100, (5,3))"
   ]
  },
  {
   "cell_type": "code",
   "execution_count": 17,
   "metadata": {},
   "outputs": [
    {
     "name": "stdout",
     "output_type": "stream",
     "text": [
      "train, testのみに含まれるデータ\n",
      "only_train_region = [nan]\n",
      "only_test_region  = [nan]\n",
      "\n",
      "片方だけに多く含まれるデータ\n"
     ]
    },
    {
     "data": {
      "text/html": [
       "<div>\n",
       "<style scoped>\n",
       "    .dataframe tbody tr th:only-of-type {\n",
       "        vertical-align: middle;\n",
       "    }\n",
       "\n",
       "    .dataframe tbody tr th {\n",
       "        vertical-align: top;\n",
       "    }\n",
       "\n",
       "    .dataframe thead th {\n",
       "        text-align: right;\n",
       "    }\n",
       "</style>\n",
       "<table border=\"1\" class=\"dataframe\">\n",
       "  <thead>\n",
       "    <tr style=\"text-align: right;\">\n",
       "      <th></th>\n",
       "      <th>title_status</th>\n",
       "      <th>train_test_x</th>\n",
       "      <th>count_x</th>\n",
       "      <th>train_test_y</th>\n",
       "      <th>count_y</th>\n",
       "    </tr>\n",
       "  </thead>\n",
       "  <tbody>\n",
       "    <tr>\n",
       "      <th>0</th>\n",
       "      <td>clean</td>\n",
       "      <td>train</td>\n",
       "      <td>22365</td>\n",
       "      <td>test</td>\n",
       "      <td>22716</td>\n",
       "    </tr>\n",
       "  </tbody>\n",
       "</table>\n",
       "</div>"
      ],
      "text/plain": [
       "  title_status train_test_x  count_x train_test_y  count_y\n",
       "0        clean        train    22365         test    22716"
      ]
     },
     "metadata": {},
     "output_type": "display_data"
    },
    {
     "name": "stdout",
     "output_type": "stream",
     "text": [
      "\n",
      "\n"
     ]
    },
    {
     "data": {
      "image/png": "[encoded data removed]",
      "text/plain": [
       "<Figure size 360x216 with 1 Axes>"
      ]
     },
     "metadata": {
      "needs_background": "light"
     },
     "output_type": "display_data"
    }
   ],
   "source": [
    "visualize_category_data('title_status', 100, (5, 3))"
   ]
  },
  {
   "cell_type": "code",
   "execution_count": 18,
   "metadata": {},
   "outputs": [
    {
     "name": "stdout",
     "output_type": "stream",
     "text": [
      "train, testのみに含まれるデータ\n",
      "only_train_region = []\n",
      "only_test_region  = []\n",
      "\n",
      "片方だけに多く含まれるデータ\n"
     ]
    },
    {
     "data": {
      "text/html": [
       "<div>\n",
       "<style scoped>\n",
       "    .dataframe tbody tr th:only-of-type {\n",
       "        vertical-align: middle;\n",
       "    }\n",
       "\n",
       "    .dataframe tbody tr th {\n",
       "        vertical-align: top;\n",
       "    }\n",
       "\n",
       "    .dataframe thead th {\n",
       "        text-align: right;\n",
       "    }\n",
       "</style>\n",
       "<table border=\"1\" class=\"dataframe\">\n",
       "  <thead>\n",
       "    <tr style=\"text-align: right;\">\n",
       "      <th></th>\n",
       "      <th>transmission</th>\n",
       "      <th>train_test_x</th>\n",
       "      <th>count_x</th>\n",
       "      <th>train_test_y</th>\n",
       "      <th>count_y</th>\n",
       "    </tr>\n",
       "  </thead>\n",
       "  <tbody>\n",
       "  </tbody>\n",
       "</table>\n",
       "</div>"
      ],
      "text/plain": [
       "Empty DataFrame\n",
       "Columns: [transmission, train_test_x, count_x, train_test_y, count_y]\n",
       "Index: []"
      ]
     },
     "metadata": {},
     "output_type": "display_data"
    },
    {
     "name": "stdout",
     "output_type": "stream",
     "text": [
      "\n",
      "\n"
     ]
    },
    {
     "data": {
      "image/png": "[encoded data removed]",
      "text/plain": [
       "<Figure size 216x216 with 1 Axes>"
      ]
     },
     "metadata": {
      "needs_background": "light"
     },
     "output_type": "display_data"
    }
   ],
   "source": [
    "visualize_category_data('transmission', 100, (3,3))"
   ]
  },
  {
   "cell_type": "code",
   "execution_count": 19,
   "metadata": {},
   "outputs": [
    {
     "name": "stdout",
     "output_type": "stream",
     "text": [
      "train, testのみに含まれるデータ\n",
      "only_train_region = []\n",
      "only_test_region  = []\n",
      "\n",
      "片方だけに多く含まれるデータ\n"
     ]
    },
    {
     "data": {
      "text/html": [
       "<div>\n",
       "<style scoped>\n",
       "    .dataframe tbody tr th:only-of-type {\n",
       "        vertical-align: middle;\n",
       "    }\n",
       "\n",
       "    .dataframe tbody tr th {\n",
       "        vertical-align: top;\n",
       "    }\n",
       "\n",
       "    .dataframe thead th {\n",
       "        text-align: right;\n",
       "    }\n",
       "</style>\n",
       "<table border=\"1\" class=\"dataframe\">\n",
       "  <thead>\n",
       "    <tr style=\"text-align: right;\">\n",
       "      <th></th>\n",
       "      <th>drive</th>\n",
       "      <th>train_test_x</th>\n",
       "      <th>count_x</th>\n",
       "      <th>train_test_y</th>\n",
       "      <th>count_y</th>\n",
       "    </tr>\n",
       "  </thead>\n",
       "  <tbody>\n",
       "  </tbody>\n",
       "</table>\n",
       "</div>"
      ],
      "text/plain": [
       "Empty DataFrame\n",
       "Columns: [drive, train_test_x, count_x, train_test_y, count_y]\n",
       "Index: []"
      ]
     },
     "metadata": {},
     "output_type": "display_data"
    },
    {
     "name": "stdout",
     "output_type": "stream",
     "text": [
      "\n",
      "\n"
     ]
    },
    {
     "data": {
      "image/png": "[encoded data removed]",
      "text/plain": [
       "<Figure size 216x216 with 1 Axes>"
      ]
     },
     "metadata": {
      "needs_background": "light"
     },
     "output_type": "display_data"
    }
   ],
   "source": [
    "visualize_category_data('drive', 100, (3,3))"
   ]
  },
  {
   "cell_type": "code",
   "execution_count": 20,
   "metadata": {},
   "outputs": [
    {
     "name": "stdout",
     "output_type": "stream",
     "text": [
      "train, testのみに含まれるデータ\n",
      "only_train_region = []\n",
      "only_test_region  = []\n",
      "\n",
      "片方だけに多く含まれるデータ\n"
     ]
    },
    {
     "data": {
      "text/html": [
       "<div>\n",
       "<style scoped>\n",
       "    .dataframe tbody tr th:only-of-type {\n",
       "        vertical-align: middle;\n",
       "    }\n",
       "\n",
       "    .dataframe tbody tr th {\n",
       "        vertical-align: top;\n",
       "    }\n",
       "\n",
       "    .dataframe thead th {\n",
       "        text-align: right;\n",
       "    }\n",
       "</style>\n",
       "<table border=\"1\" class=\"dataframe\">\n",
       "  <thead>\n",
       "    <tr style=\"text-align: right;\">\n",
       "      <th></th>\n",
       "      <th>drive</th>\n",
       "      <th>train_test_x</th>\n",
       "      <th>count_x</th>\n",
       "      <th>train_test_y</th>\n",
       "      <th>count_y</th>\n",
       "    </tr>\n",
       "  </thead>\n",
       "  <tbody>\n",
       "  </tbody>\n",
       "</table>\n",
       "</div>"
      ],
      "text/plain": [
       "Empty DataFrame\n",
       "Columns: [drive, train_test_x, count_x, train_test_y, count_y]\n",
       "Index: []"
      ]
     },
     "metadata": {},
     "output_type": "display_data"
    },
    {
     "name": "stdout",
     "output_type": "stream",
     "text": [
      "\n",
      "\n"
     ]
    },
    {
     "data": {
      "image/png": "[encoded data removed]",
      "text/plain": [
       "<Figure size 216x216 with 1 Axes>"
      ]
     },
     "metadata": {
      "needs_background": "light"
     },
     "output_type": "display_data"
    }
   ],
   "source": [
    "visualize_category_data('drive', 100, (3,3))"
   ]
  },
  {
   "cell_type": "code",
   "execution_count": 21,
   "metadata": {},
   "outputs": [
    {
     "name": "stdout",
     "output_type": "stream",
     "text": [
      "train, testのみに含まれるデータ\n",
      "only_train_region = []\n",
      "only_test_region  = ['midーsize', 'fullーsize', 'mid−size', 'full−size', 'subーcompact']\n",
      "\n",
      "片方だけに多く含まれるデータ\n"
     ]
    },
    {
     "data": {
      "text/html": [
       "<div>\n",
       "<style scoped>\n",
       "    .dataframe tbody tr th:only-of-type {\n",
       "        vertical-align: middle;\n",
       "    }\n",
       "\n",
       "    .dataframe tbody tr th {\n",
       "        vertical-align: top;\n",
       "    }\n",
       "\n",
       "    .dataframe thead th {\n",
       "        text-align: right;\n",
       "    }\n",
       "</style>\n",
       "<table border=\"1\" class=\"dataframe\">\n",
       "  <thead>\n",
       "    <tr style=\"text-align: right;\">\n",
       "      <th></th>\n",
       "      <th>size</th>\n",
       "      <th>train_test_x</th>\n",
       "      <th>count_x</th>\n",
       "      <th>train_test_y</th>\n",
       "      <th>count_y</th>\n",
       "    </tr>\n",
       "  </thead>\n",
       "  <tbody>\n",
       "  </tbody>\n",
       "</table>\n",
       "</div>"
      ],
      "text/plain": [
       "Empty DataFrame\n",
       "Columns: [size, train_test_x, count_x, train_test_y, count_y]\n",
       "Index: []"
      ]
     },
     "metadata": {},
     "output_type": "display_data"
    },
    {
     "name": "stdout",
     "output_type": "stream",
     "text": [
      "\n",
      "\n"
     ]
    },
    {
     "data": {
      "image/png": "[encoded data removed]",
      "text/plain": [
       "<Figure size 576x216 with 1 Axes>"
      ]
     },
     "metadata": {
      "needs_background": "light"
     },
     "output_type": "display_data"
    }
   ],
   "source": [
    "visualize_category_data('size', 100, (8,3))"
   ]
  },
  {
   "cell_type": "code",
   "execution_count": 22,
   "metadata": {},
   "outputs": [
    {
     "name": "stdout",
     "output_type": "stream",
     "text": [
      "train, testのみに含まれるデータ\n",
      "only_train_region = [nan]\n",
      "only_test_region  = [nan]\n",
      "\n",
      "片方だけに多く含まれるデータ\n"
     ]
    },
    {
     "data": {
      "text/html": [
       "<div>\n",
       "<style scoped>\n",
       "    .dataframe tbody tr th:only-of-type {\n",
       "        vertical-align: middle;\n",
       "    }\n",
       "\n",
       "    .dataframe tbody tr th {\n",
       "        vertical-align: top;\n",
       "    }\n",
       "\n",
       "    .dataframe thead th {\n",
       "        text-align: right;\n",
       "    }\n",
       "</style>\n",
       "<table border=\"1\" class=\"dataframe\">\n",
       "  <thead>\n",
       "    <tr style=\"text-align: right;\">\n",
       "      <th></th>\n",
       "      <th>type</th>\n",
       "      <th>train_test_x</th>\n",
       "      <th>count_x</th>\n",
       "      <th>train_test_y</th>\n",
       "      <th>count_y</th>\n",
       "    </tr>\n",
       "  </thead>\n",
       "  <tbody>\n",
       "    <tr>\n",
       "      <th>9</th>\n",
       "      <td>sedan</td>\n",
       "      <td>train</td>\n",
       "      <td>9259</td>\n",
       "      <td>test</td>\n",
       "      <td>9476</td>\n",
       "    </tr>\n",
       "  </tbody>\n",
       "</table>\n",
       "</div>"
      ],
      "text/plain": [
       "    type train_test_x  count_x train_test_y  count_y\n",
       "9  sedan        train     9259         test     9476"
      ]
     },
     "metadata": {},
     "output_type": "display_data"
    },
    {
     "name": "stdout",
     "output_type": "stream",
     "text": [
      "\n",
      "\n"
     ]
    },
    {
     "data": {
      "image/png": "[encoded data removed]",
      "text/plain": [
       "<Figure size 720x216 with 1 Axes>"
      ]
     },
     "metadata": {
      "needs_background": "light"
     },
     "output_type": "display_data"
    }
   ],
   "source": [
    "visualize_category_data('type', 100, (10,3))"
   ]
  },
  {
   "cell_type": "code",
   "execution_count": 23,
   "metadata": {},
   "outputs": [
    {
     "name": "stdout",
     "output_type": "stream",
     "text": [
      "train, testのみに含まれるデータ\n",
      "only_train_region = []\n",
      "only_test_region  = []\n",
      "\n",
      "片方だけに多く含まれるデータ\n"
     ]
    },
    {
     "data": {
      "text/html": [
       "<div>\n",
       "<style scoped>\n",
       "    .dataframe tbody tr th:only-of-type {\n",
       "        vertical-align: middle;\n",
       "    }\n",
       "\n",
       "    .dataframe tbody tr th {\n",
       "        vertical-align: top;\n",
       "    }\n",
       "\n",
       "    .dataframe thead th {\n",
       "        text-align: right;\n",
       "    }\n",
       "</style>\n",
       "<table border=\"1\" class=\"dataframe\">\n",
       "  <thead>\n",
       "    <tr style=\"text-align: right;\">\n",
       "      <th></th>\n",
       "      <th>paint_color</th>\n",
       "      <th>train_test_x</th>\n",
       "      <th>count_x</th>\n",
       "      <th>train_test_y</th>\n",
       "      <th>count_y</th>\n",
       "    </tr>\n",
       "  </thead>\n",
       "  <tbody>\n",
       "  </tbody>\n",
       "</table>\n",
       "</div>"
      ],
      "text/plain": [
       "Empty DataFrame\n",
       "Columns: [paint_color, train_test_x, count_x, train_test_y, count_y]\n",
       "Index: []"
      ]
     },
     "metadata": {},
     "output_type": "display_data"
    },
    {
     "name": "stdout",
     "output_type": "stream",
     "text": [
      "\n",
      "\n"
     ]
    },
    {
     "data": {
      "image/png": "[encoded data removed]",
      "text/plain": [
       "<Figure size 720x216 with 1 Axes>"
      ]
     },
     "metadata": {
      "needs_background": "light"
     },
     "output_type": "display_data"
    }
   ],
   "source": [
    "visualize_category_data('paint_color', 100, (10,3))"
   ]
  },
  {
   "cell_type": "code",
   "execution_count": 24,
   "metadata": {},
   "outputs": [
    {
     "name": "stdout",
     "output_type": "stream",
     "text": [
      "train, testのみに含まれるデータ\n",
      "only_train_region = [nan]\n",
      "only_test_region  = [nan]\n",
      "\n",
      "片方だけに多く含まれるデータ\n"
     ]
    },
    {
     "data": {
      "text/html": [
       "<div>\n",
       "<style scoped>\n",
       "    .dataframe tbody tr th:only-of-type {\n",
       "        vertical-align: middle;\n",
       "    }\n",
       "\n",
       "    .dataframe tbody tr th {\n",
       "        vertical-align: top;\n",
       "    }\n",
       "\n",
       "    .dataframe thead th {\n",
       "        text-align: right;\n",
       "    }\n",
       "</style>\n",
       "<table border=\"1\" class=\"dataframe\">\n",
       "  <thead>\n",
       "    <tr style=\"text-align: right;\">\n",
       "      <th></th>\n",
       "      <th>state</th>\n",
       "      <th>train_test_x</th>\n",
       "      <th>count_x</th>\n",
       "      <th>train_test_y</th>\n",
       "      <th>count_y</th>\n",
       "    </tr>\n",
       "  </thead>\n",
       "  <tbody>\n",
       "    <tr>\n",
       "      <th>34</th>\n",
       "      <td>ny</td>\n",
       "      <td>train</td>\n",
       "      <td>1841</td>\n",
       "      <td>test</td>\n",
       "      <td>1960</td>\n",
       "    </tr>\n",
       "  </tbody>\n",
       "</table>\n",
       "</div>"
      ],
      "text/plain": [
       "   state train_test_x  count_x train_test_y  count_y\n",
       "34    ny        train     1841         test     1960"
      ]
     },
     "metadata": {},
     "output_type": "display_data"
    },
    {
     "name": "stdout",
     "output_type": "stream",
     "text": [
      "\n",
      "\n"
     ]
    },
    {
     "data": {
      "image/png": "[encoded data removed]",
      "text/plain": [
       "<Figure size 1440x216 with 1 Axes>"
      ]
     },
     "metadata": {
      "needs_background": "light"
     },
     "output_type": "display_data"
    }
   ],
   "source": [
    "visualize_category_data('state', 100, (20,3))"
   ]
  }
 ],
 "metadata": {
  "kernelspec": {
   "display_name": "Python 3.8.10 64-bit",
   "language": "python",
   "name": "python3"
  },
  "language_info": {
   "codemirror_mode": {
    "name": "ipython",
    "version": 3
   },
   "file_extension": ".py",
   "mimetype": "text/x-python",
   "name": "python",
   "nbconvert_exporter": "python",
   "pygments_lexer": "ipython3",
   "version": "3.8.10"
  },
  "orig_nbformat": 4,
  "vscode": {
   "interpreter": {
    "hash": "c5e1c5925c597f57ef46db01a1f50746bd536835adc768e38beebcd1c979cf19"
   }
  }
 },
 "nbformat": 4,
 "nbformat_minor": 2
}
