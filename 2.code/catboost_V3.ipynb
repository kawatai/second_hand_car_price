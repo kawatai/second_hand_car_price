{
 "cells": [
  {
   "cell_type": "code",
   "execution_count": 14,
   "metadata": {},
   "outputs": [],
   "source": [
    "from const import *\n",
    "from function import *\n",
    "\n",
    "import numpy as np\n",
    "import pandas as pd\n",
    "import matplotlib.pyplot as plt\n",
    "import seaborn as sns\n",
    "\n",
    "import os\n",
    "import warnings\n",
    "import itertools\n",
    "\n",
    "from sklearn.model_selection import train_test_split \n",
    "from sklearn.model_selection import KFold\n",
    "from sklearn.metrics import mean_absolute_error\n",
    "from sklearn.metrics import mean_absolute_percentage_error\n",
    "\n",
    "from tqdm import tqdm\n",
    "from catboost import CatBoostRegressor\n",
    "from catboost import Pool\n",
    "\n",
    "warnings.simplefilter('ignore')"
   ]
  },
  {
   "cell_type": "code",
   "execution_count": 15,
   "metadata": {},
   "outputs": [],
   "source": [
    "data_path = '../1.data/'\n",
    "train_file_name = 'train.csv'\n",
    "test_file_name  = 'test.csv'"
   ]
  },
  {
   "cell_type": "code",
   "execution_count": 16,
   "metadata": {},
   "outputs": [],
   "source": [
    "def creansing_dataset(df):\n",
    "    # year\n",
    "    is_error_year = df['year'] > 2023\n",
    "    df.loc[is_error_year, 'year'] = df[is_error_year]['year'] - 1000\n",
    "    # size\n",
    "    df['size'] = df['size'].replace(size_replace)\n",
    "    # manufacturer\n",
    "    df['manufacturer'] = df['manufacturer'].replace(manufactuer_replace)\n",
    "\n",
    "    return df"
   ]
  },
  {
   "cell_type": "code",
   "execution_count": 17,
   "metadata": {},
   "outputs": [],
   "source": [
    "train_df = pd.read_csv(f'{data_path}{train_file_name}')\n",
    "test_df = pd.read_csv(f'{data_path}{test_file_name}')\n",
    "master_df = pd.concat([train_df, test_df])"
   ]
  },
  {
   "cell_type": "code",
   "execution_count": 18,
   "metadata": {},
   "outputs": [],
   "source": [
    "non_cols = ['id', 'price']\n",
    "num_cols = ['year', 'odometer']\n",
    "cat_cols = [col for col in train_df.columns if col not in non_cols + num_cols]"
   ]
  },
  {
   "cell_type": "code",
   "execution_count": 19,
   "metadata": {},
   "outputs": [],
   "source": [
    "def creansing_dataset(df):\n",
    "    # year\n",
    "    is_error_year = df['year'] > 2023\n",
    "    df.loc[is_error_year, 'year'] = df[is_error_year]['year'] - 1000\n",
    "    # size\n",
    "    df['size'] = df['size'].replace(size_replace)\n",
    "    # manufacturer\n",
    "    df['manufacturer'] = df['manufacturer'].replace(manufactuer_replace)\n",
    "\n",
    "    return df\n",
    "\n",
    "\n",
    "def create_num_features(df):\n",
    "    df['elapsed_year'] = 2023 - df['year']\n",
    "    del df['year']\n",
    "\n",
    "    return df\n",
    "\n",
    "\n",
    "def create_cat_features(df):\n",
    "    for col in cat_cols:\n",
    "        df[col] = df[col].factorize()[0]\n",
    "        df[col] = df[col].astype('category')\n",
    "    return df\n",
    "\n",
    "\n",
    "def create_features_main(df):\n",
    "    df = creansing_dataset(df)\n",
    "    df = create_num_features(df)\n",
    "    df = create_cat_features(df)\n",
    "\n",
    "    return df"
   ]
  },
  {
   "cell_type": "code",
   "execution_count": 20,
   "metadata": {},
   "outputs": [],
   "source": [
    "def built_catboost_model(cat_features, Xt, yt, Xe, ye):\n",
    "    model = \\\n",
    "        CatBoostRegressor(\n",
    "            learning_rate = 0.1,\n",
    "            iterations=300,\n",
    "            loss_function = 'MAPE',\n",
    "            early_stopping_rounds = 30,\n",
    "            random_seed = 42\n",
    "        )\n",
    "\n",
    "    model.fit(\n",
    "        X = Xt, y = yt,\n",
    "        eval_set = (Xe, ye),\n",
    "        cat_features = cat_features, \n",
    "        use_best_model = True, \n",
    "        verbose = 500\n",
    "    )\n",
    "\n",
    "    return model\n",
    "\n",
    "\n",
    "def mape(true, pred):\n",
    "    return np.mean(np.abs((pred - true) / true)) "
   ]
  },
  {
   "cell_type": "code",
   "execution_count": 21,
   "metadata": {},
   "outputs": [],
   "source": [
    "def plot_result(preds):\n",
    "    pred_df_l = []\n",
    "    for i in range(cv):\n",
    "        pred_df_l.append(\n",
    "            pd.DataFrame(np.array(preds[i]).T, columns=['id', 'actual', 'pred'])\n",
    "        )\n",
    "\n",
    "    pred_df = pd.concat(pred_df_l)\n",
    "\n",
    "    plt.figure(figsize=(8,5), facecolor=\"azure\", edgecolor=\"coral\", linewidth=2)\n",
    "    bins = np.linspace(0, pred_df['actual'].max(), 200)\n",
    "    plt.hist(pred_df['actual'], bins, alpha = 0.5, label='actual')\n",
    "    plt.hist(pred_df['pred'], bins, alpha = 0.5, label='b')\n",
    "\n",
    "\n",
    "    fig = plt.figure(figsize=(5,5), facecolor=\"azure\", edgecolor=\"coral\", linewidth=2)\n",
    "    ax1 = fig.add_subplot()\n",
    "    ax1.set_ylim([0, pred_df['actual'].max()])\n",
    "    ax1.set_xlim([0, pred_df['actual'].max()])\n",
    "    ax1.scatter(pred_df['actual'], pred_df['pred'])\n",
    "\n",
    "\n",
    "def plot_importance(importnace_l):\n",
    "    imp_df = pd.DataFrame(index=input_cols)\n",
    "    for i in range(len(importnace_l)):\n",
    "        imp_df[f'cv{i+1}'] = importnace_l[i]\n",
    "\n",
    "    imp_df['mean'] = imp_df.mean(axis=1)\n",
    "    imp_df = imp_df.sort_values('mean')\n",
    "\n",
    "    plt.figure(figsize=(8,12), facecolor=\"azure\", edgecolor=\"coral\", linewidth=2)\n",
    "    plt.boxplot(\n",
    "        [imp_df.T[col].values for col in imp_df.index],\n",
    "        labels = imp_df.index, \n",
    "        vert=False\n",
    "    )"
   ]
  },
  {
   "cell_type": "code",
   "execution_count": 22,
   "metadata": {},
   "outputs": [],
   "source": [
    "master_df = create_features_main(master_df)\n",
    "train_df = master_df[~master_df['price'].isnull()].reset_index(drop=True).copy()\n",
    "train_df['price'] = np.log(train_df['price'])\n",
    "test_df  = master_df[master_df['price'].isnull()].copy()"
   ]
  },
  {
   "cell_type": "code",
   "execution_count": 23,
   "metadata": {},
   "outputs": [],
   "source": [
    "cv = 4\n",
    "kf = KFold(n_splits=cv)\n",
    "\n",
    "models = []\n",
    "preds  = []\n",
    "scores = []\n",
    "importnace_l = []\n",
    "\n",
    "input_cols = train_df.drop(columns=['price', 'id']).columns"
   ]
  },
  {
   "cell_type": "code",
   "execution_count": 24,
   "metadata": {},
   "outputs": [
    {
     "name": "stdout",
     "output_type": "stream",
     "text": [
      "0:\tlearn: 0.0696080\ttest: 0.0698441\tbest: 0.0698441 (0)\ttotal: 153ms\tremaining: 45.8s\n",
      "Stopped by overfitting detector  (30 iterations wait)\n",
      "\n",
      "bestTest = 0.05162327659\n",
      "bestIteration = 230\n",
      "\n",
      "Shrink model to first 231 iterations.\n",
      "0:\tlearn: 0.0697357\ttest: 0.0695794\tbest: 0.0695794 (0)\ttotal: 161ms\tremaining: 48.1s\n",
      "Stopped by overfitting detector  (30 iterations wait)\n",
      "\n",
      "bestTest = 0.05096798037\n",
      "bestIteration = 254\n",
      "\n",
      "Shrink model to first 255 iterations.\n",
      "0:\tlearn: 0.0696381\ttest: 0.0697579\tbest: 0.0697579 (0)\ttotal: 218ms\tremaining: 1m 5s\n",
      "299:\tlearn: 0.0480646\ttest: 0.0509100\tbest: 0.0509100 (299)\ttotal: 48.3s\tremaining: 0us\n",
      "\n",
      "bestTest = 0.05090996753\n",
      "bestIteration = 299\n",
      "\n",
      "0:\tlearn: 0.0697183\ttest: 0.0695811\tbest: 0.0695811 (0)\ttotal: 179ms\tremaining: 53.5s\n",
      "299:\tlearn: 0.0483373\ttest: 0.0501223\tbest: 0.0501223 (299)\ttotal: 43.1s\tremaining: 0us\n",
      "\n",
      "bestTest = 0.05012233241\n",
      "bestIteration = 299\n",
      "\n"
     ]
    }
   ],
   "source": [
    "for train_index, valid_index in kf.split(train_df):\n",
    "    x_train = train_df.iloc[train_index].drop(columns=['price', 'id'])\n",
    "    y_train = train_df.iloc[train_index]['price']\n",
    "    x_valid = train_df.iloc[valid_index].drop(columns=['price', 'id'])\n",
    "    y_valid = train_df.iloc[valid_index]['price']\n",
    "\n",
    "    model = built_catboost_model(\n",
    "        cat_cols, x_train, y_train, x_valid, y_valid\n",
    "    )\n",
    "\n",
    "    valid_pred = model.predict(x_valid)\n",
    "\n",
    "    scores.append(mape(y_valid, valid_pred).round(5))\n",
    "    preds.append([valid_index, y_valid.values, valid_pred])\n",
    "    models.append(model)\n",
    "    importnace_l.append(model.get_feature_importance())\n",
    "\n",
    "    del x_train, y_train, x_valid, y_valid, model"
   ]
  },
  {
   "cell_type": "code",
   "execution_count": 25,
   "metadata": {},
   "outputs": [
    {
     "name": "stdout",
     "output_type": "stream",
     "text": [
      "scores = [0.05162, 0.05097, 0.05091, 0.05012]\n",
      "mean_score = 0.0509\n"
     ]
    }
   ],
   "source": [
    "print(f'scores = {scores}')\n",
    "print(f'mean_score = {np.mean(scores).round(5)}')"
   ]
  },
  {
   "cell_type": "code",
   "execution_count": 30,
   "metadata": {},
   "outputs": [
    {
     "name": "stdout",
     "output_type": "stream",
     "text": [
      "10 2.302585092994046 10.000000000000002\n"
     ]
    }
   ],
   "source": [
    "a = 10\n",
    "a_ = np.log(10)\n",
    "\n",
    "print(a, a_, np.exp(a_))"
   ]
  },
  {
   "cell_type": "code",
   "execution_count": 26,
   "metadata": {},
   "outputs": [
    {
     "data": {
      "image/png": "[encoded data removed]",
      "text/plain": [
       "<Figure size 576x360 with 1 Axes>"
      ]
     },
     "metadata": {},
     "output_type": "display_data"
    },
    {
     "data": {
      "image/png": "[encoded data removed]",
      "text/plain": [
       "<Figure size 360x360 with 1 Axes>"
      ]
     },
     "metadata": {},
     "output_type": "display_data"
    }
   ],
   "source": [
    "plot_result(preds)"
   ]
  },
  {
   "cell_type": "code",
   "execution_count": 27,
   "metadata": {},
   "outputs": [
    {
     "data": {
      "image/png": "[encoded data removed]",
      "text/plain": [
       "<Figure size 576x864 with 1 Axes>"
      ]
     },
     "metadata": {},
     "output_type": "display_data"
    }
   ],
   "source": [
    "plot_importance(importnace_l)"
   ]
  }
 ],
 "metadata": {
  "kernelspec": {
   "display_name": "Python 3.8.10 64-bit",
   "language": "python",
   "name": "python3"
  },
  "language_info": {
   "codemirror_mode": {
    "name": "ipython",
    "version": 3
   },
   "file_extension": ".py",
   "mimetype": "text/x-python",
   "name": "python",
   "nbconvert_exporter": "python",
   "pygments_lexer": "ipython3",
   "version": "3.8.10"
  },
  "orig_nbformat": 4,
  "vscode": {
   "interpreter": {
    "hash": "c5e1c5925c597f57ef46db01a1f50746bd536835adc768e38beebcd1c979cf19"
   }
  }
 },
 "nbformat": 4,
 "nbformat_minor": 2
}
